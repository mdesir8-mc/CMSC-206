{
  "nbformat": 4,
  "nbformat_minor": 0,
  "metadata": {
    "colab": {
      "provenance": [],
      "mount_file_id": "1IAk_kK15vrfY2qLbBV8aznhIkLH5Oy6e",
      "authorship_tag": "ABX9TyMOmA9lFox4vv23mxj6Wm8A",
      "include_colab_link": true
    },
    "kernelspec": {
      "name": "python3",
      "display_name": "Python 3"
    },
    "language_info": {
      "name": "python"
    }
  },
  "cells": [
    {
      "cell_type": "markdown",
      "metadata": {
        "id": "view-in-github",
        "colab_type": "text"
      },
      "source": [
        "<a href=\"https://colab.research.google.com/github/mdesir8-mc/CMSC-206/blob/main/HW4.ipynb\" target=\"_parent\"><img src=\"https://colab.research.google.com/assets/colab-badge.svg\" alt=\"Open In Colab\"/></a>"
      ]
    },
    {
      "cell_type": "markdown",
      "source": [
        "# **Michael Desir**\n",
        "## CMSC206 HW4"
      ],
      "metadata": {
        "id": "d3xAxhpzAKIO"
      }
    },
    {
      "cell_type": "markdown",
      "source": [
        "## stocks.csv handler"
      ],
      "metadata": {
        "id": "802jxE0HAS7F"
      }
    },
    {
      "cell_type": "code",
      "execution_count": 47,
      "metadata": {
        "colab": {
          "base_uri": "https://localhost:8080/"
        },
        "id": "y-Vkq6KeAFTz",
        "outputId": "3ed23a00-2588-4a72-92a6-0a82a18040e0"
      },
      "outputs": [
        {
          "output_type": "stream",
          "name": "stdout",
          "text": [
            "510.28\n",
            "93.46\n"
          ]
        }
      ],
      "source": [
        "import csv\n",
        "def findTotalPurchasePrice(file):\n",
        "  with open(file) as csv_file:\n",
        "    csv_reader = csv.reader(csv_file, delimiter=',')\n",
        "    total = 0\n",
        "    for row in csv_reader:\n",
        "      if row[1] == \"Purchase Price\":\n",
        "        continue\n",
        "      try:\n",
        "        total += float(row[1][2:])\n",
        "      except ValueError:\n",
        "        continue\n",
        "    return round(total, 2)\n",
        "\n",
        "def profitMargin(file):\n",
        "  with open(file) as csv_file:\n",
        "    csv_reader = csv.reader(csv_file, delimiter=',')\n",
        "    total = 0\n",
        "    for row in csv_reader:\n",
        "      if row[1] == \"Purchase Price\" or row[1] == \"Current Price\":\n",
        "        continue\n",
        "      try:\n",
        "        total += (float(row[4][2:]) - float(row[1][2:]))\n",
        "      except ValueError:\n",
        "        continue\n",
        "    return round(total, 2)\n",
        "\n",
        "print(findTotalPurchasePrice(\"Stocks.csv\"))\n",
        "print(profitMargin(\"Stocks.csv\"))"
      ]
    },
    {
      "cell_type": "markdown",
      "source": [
        "### foo"
      ],
      "metadata": {
        "id": "Dbd8vQv4AYeg"
      }
    },
    {
      "cell_type": "code",
      "source": [
        "class noOcurrence(Exception):\n",
        "  pass\n",
        "def foo(str, find):\n",
        "  if str.count(find) == 0:\n",
        "    raise noOcurrence(find)\n",
        "  print(\"Your character sequence: \\\"\", str, \"\\\" contains\", find, str.count(find), \"times.\")\n",
        "foo(\"abc 1bab\",\"ab\")\n",
        "foo(\"abc 1bab\",\"234\")"
      ],
      "metadata": {
        "colab": {
          "base_uri": "https://localhost:8080/",
          "height": 297
        },
        "id": "i33CLu2FAbc4",
        "outputId": "b497eff9-1baf-4ec8-e044-79bf602af9be"
      },
      "execution_count": 53,
      "outputs": [
        {
          "output_type": "error",
          "ename": "noOcurrence",
          "evalue": "234",
          "traceback": [
            "\u001b[0;31m---------------------------------------------------------------------------\u001b[0m",
            "\u001b[0;31mnoOcurrence\u001b[0m                               Traceback (most recent call last)",
            "\u001b[0;32m<ipython-input-53-be95aaa565eb>\u001b[0m in \u001b[0;36m<cell line: 8>\u001b[0;34m()\u001b[0m\n\u001b[1;32m      6\u001b[0m   \u001b[0mprint\u001b[0m\u001b[0;34m(\u001b[0m\u001b[0;34m\"Your character sequence: \\\"\"\u001b[0m\u001b[0;34m,\u001b[0m \u001b[0mstr\u001b[0m\u001b[0;34m,\u001b[0m \u001b[0;34m\"\\\" contains\"\u001b[0m\u001b[0;34m,\u001b[0m \u001b[0mfind\u001b[0m\u001b[0;34m,\u001b[0m \u001b[0mstr\u001b[0m\u001b[0;34m.\u001b[0m\u001b[0mcount\u001b[0m\u001b[0;34m(\u001b[0m\u001b[0mfind\u001b[0m\u001b[0;34m)\u001b[0m\u001b[0;34m,\u001b[0m \u001b[0;34m\"times.\"\u001b[0m\u001b[0;34m)\u001b[0m\u001b[0;34m\u001b[0m\u001b[0;34m\u001b[0m\u001b[0m\n\u001b[1;32m      7\u001b[0m \u001b[0;31m#foo(\"abc 1bab\",\"ab\")\u001b[0m\u001b[0;34m\u001b[0m\u001b[0;34m\u001b[0m\u001b[0m\n\u001b[0;32m----> 8\u001b[0;31m \u001b[0mfoo\u001b[0m\u001b[0;34m(\u001b[0m\u001b[0;34m\"abc 1bab\"\u001b[0m\u001b[0;34m,\u001b[0m\u001b[0;34m\"234\"\u001b[0m\u001b[0;34m)\u001b[0m\u001b[0;34m\u001b[0m\u001b[0;34m\u001b[0m\u001b[0m\n\u001b[0m",
            "\u001b[0;32m<ipython-input-53-be95aaa565eb>\u001b[0m in \u001b[0;36mfoo\u001b[0;34m(str, find)\u001b[0m\n\u001b[1;32m      3\u001b[0m \u001b[0;32mdef\u001b[0m \u001b[0mfoo\u001b[0m\u001b[0;34m(\u001b[0m\u001b[0mstr\u001b[0m\u001b[0;34m,\u001b[0m \u001b[0mfind\u001b[0m\u001b[0;34m)\u001b[0m\u001b[0;34m:\u001b[0m\u001b[0;34m\u001b[0m\u001b[0;34m\u001b[0m\u001b[0m\n\u001b[1;32m      4\u001b[0m   \u001b[0;32mif\u001b[0m \u001b[0mstr\u001b[0m\u001b[0;34m.\u001b[0m\u001b[0mcount\u001b[0m\u001b[0;34m(\u001b[0m\u001b[0mfind\u001b[0m\u001b[0;34m)\u001b[0m \u001b[0;34m==\u001b[0m \u001b[0;36m0\u001b[0m\u001b[0;34m:\u001b[0m\u001b[0;34m\u001b[0m\u001b[0;34m\u001b[0m\u001b[0m\n\u001b[0;32m----> 5\u001b[0;31m     \u001b[0;32mraise\u001b[0m \u001b[0mnoOcurrence\u001b[0m\u001b[0;34m(\u001b[0m\u001b[0mfind\u001b[0m\u001b[0;34m)\u001b[0m\u001b[0;34m\u001b[0m\u001b[0;34m\u001b[0m\u001b[0m\n\u001b[0m\u001b[1;32m      6\u001b[0m   \u001b[0mprint\u001b[0m\u001b[0;34m(\u001b[0m\u001b[0;34m\"Your character sequence: \\\"\"\u001b[0m\u001b[0;34m,\u001b[0m \u001b[0mstr\u001b[0m\u001b[0;34m,\u001b[0m \u001b[0;34m\"\\\" contains\"\u001b[0m\u001b[0;34m,\u001b[0m \u001b[0mfind\u001b[0m\u001b[0;34m,\u001b[0m \u001b[0mstr\u001b[0m\u001b[0;34m.\u001b[0m\u001b[0mcount\u001b[0m\u001b[0;34m(\u001b[0m\u001b[0mfind\u001b[0m\u001b[0;34m)\u001b[0m\u001b[0;34m,\u001b[0m \u001b[0;34m\"times.\"\u001b[0m\u001b[0;34m)\u001b[0m\u001b[0;34m\u001b[0m\u001b[0;34m\u001b[0m\u001b[0m\n\u001b[1;32m      7\u001b[0m \u001b[0;31m#foo(\"abc 1bab\",\"ab\")\u001b[0m\u001b[0;34m\u001b[0m\u001b[0;34m\u001b[0m\u001b[0m\n",
            "\u001b[0;31mnoOcurrence\u001b[0m: 234"
          ]
        }
      ]
    }
  ]
}