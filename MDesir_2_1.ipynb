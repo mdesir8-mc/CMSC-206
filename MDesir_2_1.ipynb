{
  "nbformat": 4,
  "nbformat_minor": 0,
  "metadata": {
    "colab": {
      "provenance": [],
      "authorship_tag": "ABX9TyPTSLBrJDKkCHCS1xDffLCI",
      "include_colab_link": true
    },
    "kernelspec": {
      "name": "python3",
      "display_name": "Python 3"
    },
    "language_info": {
      "name": "python"
    }
  },
  "cells": [
    {
      "cell_type": "markdown",
      "metadata": {
        "id": "view-in-github",
        "colab_type": "text"
      },
      "source": [
        "<a href=\"https://colab.research.google.com/github/mdesir8-mc/CMSC-206/blob/main/MDesir_2_1.ipynb\" target=\"_parent\"><img src=\"https://colab.research.google.com/assets/colab-badge.svg\" alt=\"Open In Colab\"/></a>"
      ]
    },
    {
      "cell_type": "markdown",
      "source": [
        "## **Michael Desir<br>Activity 2.1**"
      ],
      "metadata": {
        "id": "6VZ9f85Wwovz"
      }
    },
    {
      "cell_type": "markdown",
      "source": [
        "Code from article"
      ],
      "metadata": {
        "id": "0r012foEvvhP"
      }
    },
    {
      "cell_type": "code",
      "source": [
        "n_set = [1, 2, 3, 4, 5]\n",
        "\n",
        "for n in n_set:\n",
        "    print(n)"
      ],
      "metadata": {
        "colab": {
          "base_uri": "https://localhost:8080/"
        },
        "collapsed": true,
        "id": "LjWCfWxEwmw8",
        "outputId": "fe4edcad-4872-456f-97ed-db5190d3bd40"
      },
      "execution_count": null,
      "outputs": [
        {
          "output_type": "stream",
          "name": "stdout",
          "text": [
            "1\n",
            "2\n",
            "3\n",
            "4\n",
            "5\n"
          ]
        }
      ]
    },
    {
      "cell_type": "code",
      "source": [
        "for n in range(1, 6):\n",
        "    print(n)"
      ],
      "metadata": {
        "colab": {
          "base_uri": "https://localhost:8080/"
        },
        "collapsed": true,
        "id": "iHeiZARRzBq_",
        "outputId": "fe42cd86-aefe-4838-f89e-a0010a4c955c"
      },
      "execution_count": null,
      "outputs": [
        {
          "output_type": "stream",
          "name": "stdout",
          "text": [
            "1\n",
            "2\n",
            "3\n",
            "4\n",
            "5\n"
          ]
        }
      ]
    },
    {
      "cell_type": "code",
      "source": [
        "for i in range(1, 6):\n",
        "    for j in range(5, 11):\n",
        "        print(f\"{i} {j} \")\n",
        "    print()"
      ],
      "metadata": {
        "colab": {
          "base_uri": "https://localhost:8080/"
        },
        "collapsed": true,
        "id": "LWFGLpH4zZC9",
        "outputId": "388500cc-bacf-4796-d122-6764999fc3e8"
      },
      "execution_count": null,
      "outputs": [
        {
          "output_type": "stream",
          "name": "stdout",
          "text": [
            "1 5 \n",
            "1 6 \n",
            "1 7 \n",
            "1 8 \n",
            "1 9 \n",
            "1 10 \n",
            "\n",
            "2 5 \n",
            "2 6 \n",
            "2 7 \n",
            "2 8 \n",
            "2 9 \n",
            "2 10 \n",
            "\n",
            "3 5 \n",
            "3 6 \n",
            "3 7 \n",
            "3 8 \n",
            "3 9 \n",
            "3 10 \n",
            "\n",
            "4 5 \n",
            "4 6 \n",
            "4 7 \n",
            "4 8 \n",
            "4 9 \n",
            "4 10 \n",
            "\n",
            "5 5 \n",
            "5 6 \n",
            "5 7 \n",
            "5 8 \n",
            "5 9 \n",
            "5 10 \n",
            "\n"
          ]
        }
      ]
    },
    {
      "cell_type": "code",
      "source": [
        "i = 1\n",
        "while i <= 5:\n",
        "    print('*')\n",
        "    i += 1\n",
        "i = 0"
      ],
      "metadata": {
        "colab": {
          "base_uri": "https://localhost:8080/"
        },
        "collapsed": true,
        "id": "jmKnmahy1qVe",
        "outputId": "8cf27ab7-43de-4c66-dc15-02a4000cd775"
      },
      "execution_count": null,
      "outputs": [
        {
          "output_type": "stream",
          "name": "stdout",
          "text": [
            "*\n",
            "*\n",
            "*\n",
            "*\n",
            "*\n"
          ]
        }
      ]
    },
    {
      "cell_type": "code",
      "source": [
        "# prints even numbers\n",
        "i = 1\n",
        "while i <= 10:\n",
        "    if i % 2 == 0:\n",
        "        print(i)\n",
        "    i += 1"
      ],
      "metadata": {
        "colab": {
          "base_uri": "https://localhost:8080/"
        },
        "id": "rr2D_lcG1yyQ",
        "outputId": "37bfdbdb-826b-4441-f1f5-41b369061fd8"
      },
      "execution_count": null,
      "outputs": [
        {
          "output_type": "stream",
          "name": "stdout",
          "text": [
            "2\n",
            "4\n",
            "6\n",
            "8\n",
            "10\n"
          ]
        }
      ]
    },
    {
      "cell_type": "code",
      "source": [
        "# prints odd numbers\n",
        "i = 1\n",
        "while i <= 10:\n",
        "    if i % 2 == 0:\n",
        "        i += 1\n",
        "        continue\n",
        "    print(i)\n",
        "    i += 1"
      ],
      "metadata": {
        "colab": {
          "base_uri": "https://localhost:8080/"
        },
        "id": "6deMavqo3ETa",
        "outputId": "49809269-bacb-4689-91e8-1180950f60a1"
      },
      "execution_count": null,
      "outputs": [
        {
          "output_type": "stream",
          "name": "stdout",
          "text": [
            "1\n",
            "3\n",
            "5\n",
            "7\n",
            "9\n"
          ]
        }
      ]
    },
    {
      "cell_type": "code",
      "source": [
        "set_2d = [[1, 2, 3], [4, 5, 6], [7, 8, 9]]\n",
        "\n",
        "for row in set_2d:\n",
        "    for col in row:\n",
        "        print(col, end=' ')\n",
        "    print()"
      ],
      "metadata": {
        "colab": {
          "base_uri": "https://localhost:8080/"
        },
        "id": "-QRivnU5Kzoo",
        "outputId": "6857e5f5-d562-4fb6-8810-1d108f645b3b"
      },
      "execution_count": null,
      "outputs": [
        {
          "output_type": "stream",
          "name": "stdout",
          "text": [
            "1 2 3 \n",
            "4 5 6 \n",
            "7 8 9 \n"
          ]
        }
      ]
    },
    {
      "cell_type": "code",
      "source": [
        "values = ['value1', 'value2', 'value (guess)']\n",
        "for i, value in enumerate(values):\n",
        "    print(i, value)\n"
      ],
      "metadata": {
        "colab": {
          "base_uri": "https://localhost:8080/"
        },
        "id": "ca0j0-4U7Ys8",
        "outputId": "13d598f2-7c14-4d54-a741-d259bc0ae1f8"
      },
      "execution_count": null,
      "outputs": [
        {
          "output_type": "stream",
          "name": "stdout",
          "text": [
            "0 value1\n",
            "1 value2\n",
            "2 value (guess)\n"
          ]
        }
      ]
    },
    {
      "cell_type": "code",
      "source": [
        "names = ['Alice', 'Bob', 'Charlie']\n",
        "ages = [25, 30, 35]\n",
        "for name, age in zip(names, ages):\n",
        "    print(name, age)"
      ],
      "metadata": {
        "colab": {
          "base_uri": "https://localhost:8080/"
        },
        "id": "1McmvWZS5WK2",
        "outputId": "d0fc9c5d-da6e-4aaa-f423-82a5378c2e0b"
      },
      "execution_count": null,
      "outputs": [
        {
          "output_type": "stream",
          "name": "stdout",
          "text": [
            "Alice 25\n",
            "Bob 30\n",
            "Charlie 35\n"
          ]
        }
      ]
    },
    {
      "cell_type": "markdown",
      "source": [
        "Stars activity"
      ],
      "metadata": {
        "id": "IreaJRDV62xR"
      }
    },
    {
      "cell_type": "code",
      "source": [
        "str_max = input(\"Please enter the maximum number of stars for the middle row: \")\n",
        "max = int(str_max)\n",
        "stars = \"\"\n",
        "x=2\n",
        "for i in range(0,max):\n",
        "  stars += \"*\"\n",
        "if (len(stars) > 0):\n",
        "  print(\"*\")\n",
        "for i in range(0,len(stars)-1):\n",
        "  print(stars[0:x])\n",
        "  x += 1\n",
        "for i in range(0,len(stars)-1):\n",
        "  print(stars[1:x-i])\n",
        "  x -= 1"
      ],
      "metadata": {
        "colab": {
          "base_uri": "https://localhost:8080/"
        },
        "id": "XmAE96T2-A2h",
        "outputId": "145fcd75-a1d9-4a3b-df41-59ff257d19fd"
      },
      "execution_count": null,
      "outputs": [
        {
          "output_type": "stream",
          "name": "stdout",
          "text": [
            "Please enter the maximum number of stars for the middle row: 5\n",
            "*\n",
            "**\n",
            "***\n",
            "****\n",
            "*****\n",
            "****\n",
            "***\n",
            "*\n",
            "\n"
          ]
        }
      ]
    }
  ]
}