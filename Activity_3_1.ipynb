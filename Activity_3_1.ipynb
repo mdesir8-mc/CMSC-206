{
  "nbformat": 4,
  "nbformat_minor": 0,
  "metadata": {
    "colab": {
      "provenance": [],
      "authorship_tag": "ABX9TyOJm+1SZp6UGaJ3j2zwZDtg",
      "include_colab_link": true
    },
    "kernelspec": {
      "name": "python3",
      "display_name": "Python 3"
    },
    "language_info": {
      "name": "python"
    }
  },
  "cells": [
    {
      "cell_type": "markdown",
      "metadata": {
        "id": "view-in-github",
        "colab_type": "text"
      },
      "source": [
        "<a href=\"https://colab.research.google.com/github/mdesir8-mc/CMSC-206/blob/main/Activity_3_1.ipynb\" target=\"_parent\"><img src=\"https://colab.research.google.com/assets/colab-badge.svg\" alt=\"Open In Colab\"/></a>"
      ]
    },
    {
      "cell_type": "code",
      "source": [
        "original = input(\"Please enter the date in mm/dd/yy format, including zeros \")\n",
        "split_orig = original.split(\"/\")\n",
        "\n",
        "if (len(split_orig) == 3):\n",
        "    month = split_orig[0]\n",
        "    day = split_orig[1]\n",
        "    year = split_orig[2]\n",
        "else:\n",
        "    exit(\"Invalid date format, rerun program\")\n",
        "final = \"\"\n",
        "\n",
        "if month == \"01\":\n",
        "    final = \"January\"\n",
        "elif month == \"02\":\n",
        "    final = \"February\"\n",
        "elif month == \"03\":\n",
        "    final = \"March\"\n",
        "elif month == \"04\":\n",
        "    final = \"April\"\n",
        "elif month == \"05\":\n",
        "    final = \"May\"\n",
        "elif month == \"06\":\n",
        "    final = \"June\"\n",
        "elif month == \"07\":\n",
        "    final = \"July\"\n",
        "elif month == \"08\":\n",
        "    final = \"August\"\n",
        "elif month == \"09\":\n",
        "    final = \"September\"\n",
        "elif month == \"10\":\n",
        "    final = \"October\"\n",
        "elif month == \"11\":\n",
        "    final = \"November\"\n",
        "elif month == \"12\":\n",
        "    final = \"December\"\n",
        "else:\n",
        "    exit(\"Invalid month, rerun program\")\n",
        "\n",
        "if int(day) <= 31 and int(day) >= 0:\n",
        "  if month == \"02\":\n",
        "    if (int(day) > 28 and int(day) == 29):\n",
        "      if ((int(year) % 400 == 0) or (int(year) % 100 != 0) and (int(year) % 4 == 0)):\n",
        "        final = final + \" \" + day\n",
        "      else:\n",
        "        exit(\"Invalid month, rerun program\")\n",
        "    elif (int(day) > 28):\n",
        "        exit(\"Invalid month, rerun program\")\n",
        "  else:\n",
        "    final = final + \" \" + day\n",
        "else:\n",
        "  exit(\"Invalid day, rerun program\")\n",
        "if int(year) >= 0:\n",
        "    final = final + \", 20\" + year\n",
        "else:\n",
        "  exit(\"Invalid year, rerun program\")\n",
        "print(final)\n"
      ],
      "metadata": {
        "colab": {
          "base_uri": "https://localhost:8080/"
        },
        "id": "nJIUCgR0ZdyW",
        "outputId": "99ff8004-8930-4b5b-dec4-ff3352102996"
      },
      "execution_count": 6,
      "outputs": [
        {
          "output_type": "stream",
          "name": "stdout",
          "text": [
            "Please enter the date in mm/dd/yy format, including zeros 123456\n",
            "September 23, 2021\n"
          ]
        }
      ]
    },
    {
      "cell_type": "code",
      "execution_count": 2,
      "metadata": {
        "colab": {
          "base_uri": "https://localhost:8080/"
        },
        "id": "ZuiGWQrDulpw",
        "outputId": "138e7ce0-9189-4ea4-e122-a4a665998e00"
      },
      "outputs": [
        {
          "output_type": "stream",
          "name": "stdout",
          "text": [
            "Enter the number of normal hours worked: 41\n",
            "Enter the hourly rate: 10\n",
            "Your weekly pay is: 415.0\n"
          ]
        }
      ],
      "source": [
        "\n",
        "# Get input from the user\n",
        "hrs_worked = float(input(\"Enter the number of normal hours worked: \"))\n",
        "hrly_rate = float(input(\"Enter the hourly rate: \"))\n",
        "weekly_pay = 0\n",
        "\n",
        "# Calculate weekly pay\n",
        "if hrs_worked <= 40:\n",
        "   weekly_pay = hrs_worked * hrly_rate\n",
        "else:\n",
        "  overtime_hrs = hrs_worked - 40\n",
        "  overtime_rate = hrly_rate * 1.5  # Assuming 1.5 for overtime\n",
        "  weekly_pay =  (40 * hrly_rate) + (overtime_hrs * overtime_rate)\n",
        "\n",
        "\n",
        "# Display the weekly pay\n",
        "print(\"Your weekly pay is:\", weekly_pay)\n"
      ]
    }
  ]
}