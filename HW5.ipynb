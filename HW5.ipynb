{
  "nbformat": 4,
  "nbformat_minor": 0,
  "metadata": {
    "colab": {
      "provenance": [],
      "collapsed_sections": [
        "YywC3mCGmgLQ"
      ],
      "authorship_tag": "ABX9TyMLngxIfERhyN/02fjzB3xR",
      "include_colab_link": true
    },
    "kernelspec": {
      "name": "python3",
      "display_name": "Python 3"
    },
    "language_info": {
      "name": "python"
    }
  },
  "cells": [
    {
      "cell_type": "markdown",
      "metadata": {
        "id": "view-in-github",
        "colab_type": "text"
      },
      "source": [
        "<a href=\"https://colab.research.google.com/github/mdesir8-mc/CMSC-206/blob/main/HW5.ipynb\" target=\"_parent\"><img src=\"https://colab.research.google.com/assets/colab-badge.svg\" alt=\"Open In Colab\"/></a>"
      ]
    },
    {
      "cell_type": "markdown",
      "source": [
        "## **Michael Desir**\n",
        "### CMSC206 HW5"
      ],
      "metadata": {
        "id": "nBvGyQDCVw--"
      }
    },
    {
      "cell_type": "markdown",
      "source": [
        "### Naming Function"
      ],
      "metadata": {
        "id": "YywC3mCGmgLQ"
      }
    },
    {
      "cell_type": "code",
      "execution_count": null,
      "metadata": {
        "colab": {
          "base_uri": "https://localhost:8080/"
        },
        "id": "sQJVNJYIVu1t",
        "outputId": "3b2d576f-b7e6-41db-c52d-910746ab71f7"
      },
      "outputs": [
        {
          "output_type": "stream",
          "name": "stdout",
          "text": [
            "Please enter a first name: Uno\n",
            "Please enter another first name: Dos\n",
            "Please enter another first name: Tres\n",
            "Please enter another first name: Quatro\n",
            "Please enter a last name: 1\n",
            "Please enter another last name: 2\n",
            "Please enter another last name: 3\n",
            "Please enter another last name: 4\n",
            "Name 0 — Uno 1\n",
            "Name 1 — Uno 2\n",
            "Name 2 — Uno 3\n",
            "Name 3 — Uno 4\n",
            "Name 4 — Dos 1\n",
            "Name 5 — Dos 2\n",
            "Name 6 — Dos 3\n",
            "Name 7 — Dos 4\n",
            "Name 8 — Tres 1\n",
            "Name 9 — Tres 2\n",
            "Name 10 — Tres 3\n",
            "Name 11 — Tres 4\n",
            "Name 12 — Quatro 1\n",
            "Name 13 — Quatro 2\n",
            "Name 14 — Quatro 3\n",
            "Name 15 — Quatro 4\n"
          ]
        }
      ],
      "source": [
        "def name_compiler():\n",
        "  first1 = input(\"Please enter a first name: \")\n",
        "  first2 = input(\"Please enter another first name: \")\n",
        "  first3 = input(\"Please enter another first name: \")\n",
        "  first4 = input(\"Please enter another first name: \")\n",
        "  last1 = input(\"Please enter a last name: \")\n",
        "  last2 = input(\"Please enter another last name: \")\n",
        "  last3 = input(\"Please enter another last name: \")\n",
        "  last4 = input(\"Please enter another last name: \")\n",
        "\n",
        "  first_names = [first1, first2, first3, first4]\n",
        "  last_names = [last1, last2, last3, last4]\n",
        "  full_names = []\n",
        "\n",
        "  for i in range(0,4):\n",
        "    for j in range(0,4):\n",
        "      full_names.append(first_names[i] + \" \" + last_names[j])\n",
        "  for i in range(0,16):\n",
        "    print(\"Name\", i, \"\\u2014\", full_names[i])\n",
        "name_compiler()"
      ]
    },
    {
      "cell_type": "markdown",
      "source": [
        "### Random numbers"
      ],
      "metadata": {
        "id": "gEMnUB1imkeT"
      }
    },
    {
      "cell_type": "code",
      "source": [
        "import random\n",
        "randoms = []\n",
        "for i in range(0,25):\n",
        "  randoms.append(random.randint(100,200))\n",
        "randoms.sort(reverse=True)\n",
        "\n",
        "outfile = open(\"numbers.txt\", \"w\")\n",
        "for i in range(0,25):\n",
        "  outfile.write(str(randoms[i]) + \"\\n\")\n",
        "outfile.close()\n"
      ],
      "metadata": {
        "id": "Qjlka7UCmfa8"
      },
      "execution_count": 2,
      "outputs": []
    }
  ]
}