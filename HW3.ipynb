{
  "nbformat": 4,
  "nbformat_minor": 0,
  "metadata": {
    "colab": {
      "provenance": [],
      "authorship_tag": "ABX9TyNSy/Obl0mnnYdCOkDbItfD",
      "include_colab_link": true
    },
    "kernelspec": {
      "name": "python3",
      "display_name": "Python 3"
    },
    "language_info": {
      "name": "python"
    }
  },
  "cells": [
    {
      "cell_type": "markdown",
      "metadata": {
        "id": "view-in-github",
        "colab_type": "text"
      },
      "source": [
        "<a href=\"https://colab.research.google.com/github/mdesir8-mc/CMSC-206/blob/main/HW3.ipynb\" target=\"_parent\"><img src=\"https://colab.research.google.com/assets/colab-badge.svg\" alt=\"Open In Colab\"/></a>"
      ]
    },
    {
      "cell_type": "markdown",
      "source": [
        "# **Michael Desir**\n",
        "# CMSC206 Homework 3"
      ],
      "metadata": {
        "id": "RzQRtDRZtXFX"
      }
    },
    {
      "cell_type": "markdown",
      "source": [
        "## Shapes"
      ],
      "metadata": {
        "id": "XJHoZoNi50lu"
      }
    },
    {
      "cell_type": "code",
      "execution_count": 4,
      "metadata": {
        "colab": {
          "base_uri": "https://localhost:8080/"
        },
        "id": "dVicNrKkrwf6",
        "outputId": "401184dc-58a9-4443-c5f6-3788a2ff50bc"
      },
      "outputs": [
        {
          "output_type": "stream",
          "name": "stdout",
          "text": [
            "Invalid shape. Rerun program\n"
          ]
        }
      ],
      "source": [
        "class invalid_shape(Exception):\n",
        "  print(\"Invalid shape. Rerun program\")\n",
        "  pass\n",
        "def area_calc(shape):\n",
        "  if shape == \"rectangle\":\n",
        "    length = int(input(\"Please enter the length: \"))\n",
        "    width = int(input(\"Please enter the width:\"))\n",
        "    return length * width\n",
        "  elif shape == \"triangle\":\n",
        "    base = int(input(\"Please enter the base: \"))\n",
        "    height = int(input(\"Please enter the height: \"))\n",
        "    return base * height / 2\n",
        "  elif shape == \"trapezoid\":\n",
        "    base1 = int(input(\"Please enter the first base: \"))\n",
        "    base2 = int(input(\"Please enter the second base: \"))\n",
        "    height = int(input(\"Please enter the height: \"))\n",
        "    return base1 + base2 * height / 2\n",
        "  else:\n",
        "    raise invalid_shape"
      ]
    },
    {
      "cell_type": "code",
      "source": [
        "shape = input(\"Please enter a shape: a rectangle, a triangle, or a trapezoid\")\n",
        "print(area_calc(shape))"
      ],
      "metadata": {
        "colab": {
          "base_uri": "https://localhost:8080/"
        },
        "id": "ji-YrQaQuVMM",
        "outputId": "42f635ae-b4d7-472a-a9e7-42c6c6b614e9"
      },
      "execution_count": 5,
      "outputs": [
        {
          "output_type": "stream",
          "name": "stdout",
          "text": [
            "Please enter a shape: a rectangle, a triangle, or a trapezoidtrapezoid\n",
            "Please enter the first base: 4\n",
            "Please enter the second base: 8\n",
            "Please enter the height: 3\n",
            "16.0\n"
          ]
        }
      ]
    },
    {
      "cell_type": "markdown",
      "source": [
        "## Unlimited arguments"
      ],
      "metadata": {
        "id": "xEtDbsC656ze"
      }
    },
    {
      "cell_type": "code",
      "source": [
        "def unlimited_args(*args):\n",
        "  sum = 0\n",
        "  for i in args:\n",
        "    sum += i\n",
        "  average = sum / len(args)\n",
        "  max_num = max(args)\n",
        "  min_num = min(args)\n",
        "  list_results = [sum, average, max_num, min_num]\n",
        "  return list_results"
      ],
      "metadata": {
        "id": "dwzDfVRAv5og"
      },
      "execution_count": 8,
      "outputs": []
    },
    {
      "cell_type": "code",
      "source": [
        "print(unlimited_args(1, 2, 3, 4, 10))"
      ],
      "metadata": {
        "colab": {
          "base_uri": "https://localhost:8080/"
        },
        "id": "IlkzwOFm7O96",
        "outputId": "50af5888-35a4-4d09-a78f-581856d68b83"
      },
      "execution_count": 9,
      "outputs": [
        {
          "output_type": "stream",
          "name": "stdout",
          "text": [
            "[20, 4.0, 10, 1]\n"
          ]
        }
      ]
    }
  ]
}