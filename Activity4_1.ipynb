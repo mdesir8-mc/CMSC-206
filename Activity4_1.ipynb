{
  "nbformat": 4,
  "nbformat_minor": 0,
  "metadata": {
    "colab": {
      "provenance": [],
      "mount_file_id": "1cy2OdnC2CAr9xjPmQlTmF0nVgkpS6-OO",
      "authorship_tag": "ABX9TyMpQQOKue9t2dWgeziH28/u",
      "include_colab_link": true
    },
    "kernelspec": {
      "name": "python3",
      "display_name": "Python 3"
    },
    "language_info": {
      "name": "python"
    }
  },
  "cells": [
    {
      "cell_type": "markdown",
      "metadata": {
        "id": "view-in-github",
        "colab_type": "text"
      },
      "source": [
        "<a href=\"https://colab.research.google.com/github/mdesir8-mc/CMSC-206/blob/main/Activity4_1.ipynb\" target=\"_parent\"><img src=\"https://colab.research.google.com/assets/colab-badge.svg\" alt=\"Open In Colab\"/></a>"
      ]
    },
    {
      "cell_type": "markdown",
      "source": [
        "# **Michael Desir**\n",
        "## CMSC 206 Activity 4.1"
      ],
      "metadata": {
        "id": "2SEqRxlgLZiw"
      }
    },
    {
      "cell_type": "markdown",
      "source": [
        "### foo"
      ],
      "metadata": {
        "id": "D2Q0pWAWODZL"
      }
    },
    {
      "cell_type": "code",
      "source": [
        "\n",
        "\n",
        "def foo(filename, format):\n",
        "  new_name = \"/content/drive/MyDrive/School-related/\" + filename\n",
        "  try:\n",
        "    handle = open(new_name, 'r')\n",
        "  except FileNotFoundError:\n",
        "    print(\"File cannot be opened: \", filename)\n",
        "    quit()\n",
        "  if format == \"upper\":\n",
        "    for line in handle:\n",
        "      print(line.upper(), end=\"\")\n",
        "  elif format == \"lower\":\n",
        "    for line in handle:\n",
        "      print(line.lower(), end=\"\")\n",
        "  elif format == \"camel case\":\n",
        "    for line in handle:\n",
        "      arr = line.split()\n",
        "      new_line = \"\"\n",
        "      for word in arr:\n",
        "        new_line += word.capitalize()\n",
        "      print(new_line)\n",
        "  else:\n",
        "    print(\"Invalid format\")\n",
        "var = input(\"Enter filename: \")\n",
        "foo(var, \"upper\")\n",
        "print()\n",
        "foo(var,\"lower\")\n",
        "print()\n",
        "foo(var, \"camel case\")"
      ],
      "metadata": {
        "id": "cD-hE-nlOF1d"
      },
      "execution_count": null,
      "outputs": []
    },
    {
      "cell_type": "markdown",
      "source": [
        "###  bar"
      ],
      "metadata": {
        "id": "4t5UlqpZYeG4"
      }
    },
    {
      "cell_type": "code",
      "source": [
        "def bar(myString):\n",
        "  indexColon = myString.find(\":\")\n",
        "  part2 = myString[indexColon+1:]\n",
        "  try:\n",
        "    part2 = float(part2)\n",
        "    print(part2+2.5)\n",
        "  except:\n",
        "    print(\"Invalid input\")\n",
        "    quit()\n",
        "bar(\"X-DSPAM-Confidence:0.8475\")\n",
        "bar(\"de\")"
      ],
      "metadata": {
        "colab": {
          "base_uri": "https://localhost:8080/"
        },
        "id": "B_FWq1O9W8_m",
        "outputId": "5a6920f5-121a-4e9e-eb60-3fd321309155"
      },
      "execution_count": null,
      "outputs": [
        {
          "output_type": "stream",
          "name": "stdout",
          "text": [
            "3.3475\n",
            "Invalid input\n"
          ]
        }
      ]
    }
  ]
}